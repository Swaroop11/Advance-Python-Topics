{
 "cells": [
  {
   "cell_type": "markdown",
   "metadata": {},
   "source": [
    "Python Regular Expressions by Edureka"
   ]
  },
  {
   "cell_type": "code",
   "execution_count": 1,
   "metadata": {},
   "outputs": [],
   "source": [
    "import re #library for regular expressions "
   ]
  },
  {
   "cell_type": "code",
   "execution_count": 2,
   "metadata": {},
   "outputs": [],
   "source": [
    "#We are finding the pattern in this string for name and age of the persons\n",
    "\n",
    "Nameage = '''\n",
    "Janice is 22 and Theon is 33\n",
    "Gabriel is 44 and Jeoy is 21\n",
    "'''"
   ]
  },
  {
   "cell_type": "code",
   "execution_count": 19,
   "metadata": {},
   "outputs": [],
   "source": [
    "#re.findall() helps to find all the values which follows the given pattern in the given string\n",
    "#finall() it will return the \"list\" of all the matches in the given string\n",
    "ages = re.findall(r'\\d{1,4}', Nameage)\n",
    "\n",
    "names = re.findall(r'[A-Z][a-z]*', Nameage)  #* is used to get full name upto a space in the string"
   ]
  },
  {
   "cell_type": "code",
   "execution_count": 20,
   "metadata": {},
   "outputs": [
    {
     "name": "stdout",
     "output_type": "stream",
     "text": [
      "{'Janice': '22', 'Theon': '33', 'Gabriel': '44', 'Jeoy': '21'}\n"
     ]
    }
   ],
   "source": [
    "ageDict = {}  #Dict for names and ages\n",
    "\n",
    "for i in range(0, len(names)):\n",
    "    \n",
    "    ageDict[names[i]] = ages[i]  #We have converted them into nested lists\n",
    "    \n",
    "print(ageDict)"
   ]
  },
  {
   "cell_type": "code",
   "execution_count": 27,
   "metadata": {},
   "outputs": [
    {
     "name": "stdout",
     "output_type": "stream",
     "text": [
      "There is \"inform\" in the given sentence\n",
      "['inform', 'inform']\n"
     ]
    }
   ],
   "source": [
    "#Finding a fixed string in a given string\n",
    "#We will use a condition for this also that is inform word is there or not in the string\n",
    "sample_string = \"we need to inform him about information\"\n",
    "\n",
    "if re.search(\"inform\", sample_string):   #re.search() finds the string in given string\n",
    "    print('There is \"inform\" in the given sentence')\n",
    "\n",
    "allinform = re.findall(\"inform\", sample_string)\n",
    "\n",
    "print(allinform)\n",
    "#It will take information -> infrom as well"
   ]
  },
  {
   "cell_type": "code",
   "execution_count": 62,
   "metadata": {
    "scrolled": true
   },
   "outputs": [
    {
     "name": "stdout",
     "output_type": "stream",
     "text": [
      "(15, 21)\n",
      "(34, 40)\n"
     ]
    }
   ],
   "source": [
    "#Now we are generating the iterator i.e. we are getting starting and ending index \n",
    "#of our word we are searching\n",
    "\n",
    "iter_string = \"We all need to inform him all the informations\"\n",
    "\n",
    "#We are using re.finditer() to get starting and ending index of all strings\n",
    "for i in re.finditer(\"inform\", iter_string):  #for loop over output of this function\n",
    "    \n",
    "    itters = i.span()    #making them a tuple \n",
    "    print(itters)"
   ]
  },
  {
   "cell_type": "code",
   "execution_count": 63,
   "metadata": {},
   "outputs": [
    {
     "name": "stdout",
     "output_type": "stream",
     "text": [
      "Sat, hat, mat, pat\n"
     ]
    }
   ],
   "source": [
    "#Now matching words in a particular pattern\n",
    "sample_str = \"Sat, hat, mat, pat\"\n",
    "\n",
    "#\n",
    "allstr = re.findall(\"[shamp]at\", sample_str)\n",
    "print(sample_str)"
   ]
  },
  {
   "cell_type": "code",
   "execution_count": null,
   "metadata": {},
   "outputs": [],
   "source": []
  },
  {
   "cell_type": "code",
   "execution_count": null,
   "metadata": {},
   "outputs": [],
   "source": []
  }
 ],
 "metadata": {
  "kernelspec": {
   "display_name": "Python 3",
   "language": "python",
   "name": "python3"
  },
  "language_info": {
   "codemirror_mode": {
    "name": "ipython",
    "version": 3
   },
   "file_extension": ".py",
   "mimetype": "text/x-python",
   "name": "python",
   "nbconvert_exporter": "python",
   "pygments_lexer": "ipython3",
   "version": "3.6.5"
  }
 },
 "nbformat": 4,
 "nbformat_minor": 2
}
