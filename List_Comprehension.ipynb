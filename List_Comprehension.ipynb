{
 "cells": [
  {
   "cell_type": "code",
   "execution_count": 15,
   "metadata": {},
   "outputs": [
    {
     "name": "stdout",
     "output_type": "stream",
     "text": [
      "[0, 1, 4, 9, 16, 25, 36, 49, 64, 81]\n",
      "[0, 1, 4, 9, 16, 25, 36, 49, 64, 81]\n"
     ]
    }
   ],
   "source": [
    "#List comprejension Is a form of for loop\n",
    "#It appends itself\n",
    "squares = [x**2 for x in range(10)]\n",
    "print(squares)\n",
    "\n",
    "#Same code by for loop\n",
    "forsquares = []\n",
    "for x in range(0,10):\n",
    "    forsquares.append(x**2)\n",
    "print(forsquares)"
   ]
  },
  {
   "cell_type": "code",
   "execution_count": 10,
   "metadata": {},
   "outputs": [
    {
     "name": "stdout",
     "output_type": "stream",
     "text": [
      "[0, 4, 16, 36, 64]\n",
      "[0, 4, 16, 36, 64]\n"
     ]
    }
   ],
   "source": [
    "#Adding the filtering in lost comperhension\n",
    "even_squares = [x*x                   #expression\n",
    "                for x in range(10)    #value in Collection\n",
    "                if x % 2 == 0]        #condtion \n",
    "print(even_squares)\n",
    "\n",
    "#Calculating by for loop\n",
    "foreven_sqr = []\n",
    "for i in range(0,10):\n",
    "    if i % 2 == 0:\n",
    "        foreven_sqr.append(i*i)\n",
    "        \n",
    "print(foreven_sqr)"
   ]
  },
  {
   "cell_type": "code",
   "execution_count": 13,
   "metadata": {},
   "outputs": [
    {
     "name": "stdout",
     "output_type": "stream",
     "text": [
      "[1, 3, 5, 7, 9, 11, 13, 15, 17, 19]\n",
      "[2, 6, 10, 14, 18, 22, 26, 30, 34, 38]\n"
     ]
    },
    {
     "data": {
      "text/plain": [
       "True"
      ]
     },
     "execution_count": 13,
     "metadata": {},
     "output_type": "execute_result"
    }
   ],
   "source": [
    "#List of odd numbers and their double value list\n",
    "odd_num = [i for i in range(1,20) if i % 2 == 1]\n",
    "print(odd_num)\n",
    "\n",
    "double_num = [i*2 for i in odd_num]\n",
    "print(double_num)\n",
    "\n",
    "len(odd_num) == len(double_num)"
   ]
  },
  {
   "cell_type": "code",
   "execution_count": 17,
   "metadata": {},
   "outputs": [
    {
     "name": "stdout",
     "output_type": "stream",
     "text": [
      "[36, 25, 16, 9, 4, 1]\n",
      "[36, 25, 16, 9, 4, 1]\n"
     ]
    }
   ],
   "source": [
    "#Reverse Square list\n",
    "reverse_squ = [x**2 for x in range(6, 0, -1)]\n",
    "print(reverse_squ)\n",
    "\n",
    "#By for loop\n",
    "rev_for = []\n",
    "for i in range(6,0, -1):\n",
    "    rev_for.append(i**2)\n",
    "print(rev_for)"
   ]
  },
  {
   "cell_type": "code",
   "execution_count": 20,
   "metadata": {},
   "outputs": [
    {
     "name": "stdout",
     "output_type": "stream",
     "text": [
      "[0, 1, 4, 27, 16, 125, 36, 343, 64, 729]\n"
     ]
    }
   ],
   "source": [
    "#Both If else condition for list comprehension\n",
    "both = [x**2 if x % 2 == 0 else x**3 for x in range(0,10)]\n",
    "print(both)"
   ]
  },
  {
   "cell_type": "code",
   "execution_count": 22,
   "metadata": {},
   "outputs": [
    {
     "name": "stdout",
     "output_type": "stream",
     "text": [
      "[0, 1, 2, 3, 4, 5, 6, 7, 8, 9]\n",
      "[0, 1, 4, 9, 16, 25, 36, 49, 64, 81]\n"
     ]
    }
   ],
   "source": [
    "#Working over list\n",
    "nums = [x for x in range(10)]\n",
    "print(nums)\n",
    "\n",
    "#Squaring each elemts\n",
    "sq_nums = [x**2 for x in nums]\n",
    "print(sq_nums)"
   ]
  },
  {
   "cell_type": "code",
   "execution_count": 25,
   "metadata": {},
   "outputs": [
    {
     "name": "stdout",
     "output_type": "stream",
     "text": [
      "['A', 'B', 'C', 'D']\n",
      "['a', 'b', 'c', 'd']\n"
     ]
    }
   ],
   "source": [
    "#Uper and lower case of words\n",
    "words = ['a','b','c','d']\n",
    "\n",
    "upwords = [x.upper() for x in words]\n",
    "print(upwords)\n",
    "\n",
    "lowerword = [x.lower() for x in upwords]\n",
    "print(lowerword)"
   ]
  },
  {
   "cell_type": "code",
   "execution_count": 27,
   "metadata": {},
   "outputs": [
    {
     "name": "stdout",
     "output_type": "stream",
     "text": [
      "['1', '1', '0', '3', '1', '9', '9', '6']\n",
      "['s', 'w', 'a', 'r', 'o', 'o', 'p']\n"
     ]
    }
   ],
   "source": [
    "#Getting numbrs from strings\n",
    "str1 = \"swaroop11031996\"\n",
    "digits = [x for x in str1 if x.isdigit()]\n",
    "print(digits)\n",
    "\n",
    "alphabates = [x for x in str1 if x.isalpha()]\n",
    "print(alphabates)"
   ]
  },
  {
   "cell_type": "code",
   "execution_count": 29,
   "metadata": {},
   "outputs": [
    {
     "name": "stdout",
     "output_type": "stream",
     "text": [
      "[1, 4, 'a']\n"
     ]
    }
   ],
   "source": [
    "#List comprehension on NEsted Lists\n",
    "list1 = [[1,2,3],[4,5,6],['a','b','c']]\n",
    "first_elements = [x[0] for x in list1]\n",
    "print(first_elements)"
   ]
  },
  {
   "cell_type": "code",
   "execution_count": 30,
   "metadata": {},
   "outputs": [
    {
     "name": "stdout",
     "output_type": "stream",
     "text": [
      "[5, 6, 7, 8, 6, 7, 8, 9, 7, 8, 9, 10]\n",
      "[5, 7, 9]\n"
     ]
    }
   ],
   "source": [
    "#Addinf the lists\n",
    "A = [1,2,3]\n",
    "B = [4,5,6,7]\n",
    "C = [7,9,8]\n",
    "\n",
    "AB = [x+y for x in A for y in B]\n",
    "print(AB)\n",
    "\n",
    "AC = [A[i] + B[i] for i in range(0, len(A))]\n",
    "print(AC)\n"
   ]
  },
  {
   "cell_type": "code",
   "execution_count": 34,
   "metadata": {},
   "outputs": [
    {
     "name": "stdout",
     "output_type": "stream",
     "text": [
      "[('a', '0'), ('a', '1'), ('a', '2'), ('a', '3'), ('b', '0'), ('b', '1'), ('b', '2'), ('b', '3'), ('c', '0'), ('c', '1'), ('c', '2'), ('c', '3'), ('d', '0'), ('d', '1'), ('d', '2'), ('d', '3')]\n",
      "[{1: 4}, {1: 5}, {1: 6}, {1: 7}, {2: 4}, {2: 5}, {2: 6}, {2: 7}, {3: 4}, {3: 5}, {3: 6}, {3: 7}]\n",
      "{1: 7, 2: 7, 3: 7}\n"
     ]
    }
   ],
   "source": [
    "#tupple Creating \n",
    "tuple_list = [(letter, num) for letter in 'abcd' for num in '0123']\n",
    "print(tuple_list)\n",
    "\n",
    "#Creating Dictionaries\n",
    "dict2 = {a: b for a in A for b in B }\n",
    "print(dict2)"
   ]
  },
  {
   "cell_type": "code",
   "execution_count": null,
   "metadata": {},
   "outputs": [],
   "source": []
  }
 ],
 "metadata": {
  "kernelspec": {
   "display_name": "Python 3",
   "language": "python",
   "name": "python3"
  },
  "language_info": {
   "codemirror_mode": {
    "name": "ipython",
    "version": 3
   },
   "file_extension": ".py",
   "mimetype": "text/x-python",
   "name": "python",
   "nbconvert_exporter": "python",
   "pygments_lexer": "ipython3",
   "version": "3.6.5"
  }
 },
 "nbformat": 4,
 "nbformat_minor": 2
}
