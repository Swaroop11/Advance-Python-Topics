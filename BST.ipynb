{
 "cells": [
  {
   "cell_type": "code",
   "execution_count": 71,
   "metadata": {},
   "outputs": [],
   "source": [
    "import numpy as np\n",
    "import random"
   ]
  },
  {
   "cell_type": "code",
   "execution_count": 72,
   "metadata": {},
   "outputs": [],
   "source": [
    "class TreeNode:\n",
    "    \n",
    "    def __init__(self):\n",
    "        \n",
    "        self.PrimeNumber = None\n",
    "        self.LeftNodeAddr = None\n",
    "        self.RightNodeAddr = None  "
   ]
  },
  {
   "cell_type": "code",
   "execution_count": 73,
   "metadata": {},
   "outputs": [],
   "source": [
    "RandomNumbers = np.random.randint(512 , 1024 , size=100)"
   ]
  },
  {
   "cell_type": "code",
   "execution_count": 74,
   "metadata": {},
   "outputs": [
    {
     "name": "stdout",
     "output_type": "stream",
     "text": [
      "[835, 648, 1014, 613, 670, 1002, 546, 983, 876, 887, 955, 529, 931, 998, 521, 577, 1003, 642, 595, 1023, 536, 738, 844, 645, 563, 985, 869, 781, 964, 972, 866, 517, 786, 977, 742, 821, 982, 585, 732, 960, 559, 808, 973, 939, 632, 541, 918, 738, 530, 846, 705, 590, 707, 766, 871, 566, 542, 905, 684, 889, 804, 606, 618, 984, 1015, 790, 583, 590, 920, 666, 977, 913, 930, 618, 920, 605, 741, 897, 517, 699, 1008, 920, 529, 685, 579, 549, 847, 913, 573, 765, 1009, 768, 987, 776, 921, 1014, 1016, 868, 886, 597]\n"
     ]
    }
   ],
   "source": [
    "ListOfNums = list(RandomNumbers)\n",
    "print(ListOfNums)"
   ]
  },
  {
   "cell_type": "code",
   "execution_count": 75,
   "metadata": {},
   "outputs": [],
   "source": [
    "def InsertNode(RootNode, NewNode):\n",
    "    \n",
    "    if RootNode == None:\n",
    "        \n",
    "        RootNode = NewNode\n",
    "        \n",
    "        return RootNode\n",
    "    \n",
    "    elif RootNode.PrimeNumber >= NewNode.PrimeNumber:\n",
    "        \n",
    "        RootNode.LeftNodeAddr = InsertNode(RootNode.LeftNodeAddr, NewNode)\n",
    "    \n",
    "    else:\n",
    "        RootNode.RightNodeAddr = InsertNode(RootNode.RightNodeAddr, NewNode)\n",
    "        \n",
    "    return RootNode"
   ]
  },
  {
   "cell_type": "code",
   "execution_count": 76,
   "metadata": {},
   "outputs": [],
   "source": [
    "def BFSTraversal(RootNode):\n",
    "    \n",
    "    print(\"The bfs traversal of tree is\\n\")\n",
    "    \n",
    "    ListOfNodes = []\n",
    "    \n",
    "    ListOfNodes.append(RootNode)\n",
    "        \n",
    "    while len(ListOfNodes) != 0:\n",
    "            \n",
    "        print(ListOfNodes[0].PrimeNumber)\n",
    "            \n",
    "        if ListOfNodes[0].LeftNodeAddr != None:\n",
    "                \n",
    "            ListOfNodes.append(ListOfNodes[0].LeftNodeAddr)\n",
    "            \n",
    "        if ListOfNodes[0].RightNodeAddr != None:\n",
    "                \n",
    "            ListOfNodes.append(ListOfNodes[0].RightNodeAddr)\n",
    "                \n",
    "        ListOfNodes.pop(0)"
   ]
  },
  {
   "cell_type": "code",
   "execution_count": 82,
   "metadata": {},
   "outputs": [],
   "source": [
    "def PreOrderTraversal(RootNode):\n",
    "    \n",
    "    #print(\"The Pre Order Traversal is\")\n",
    "    \n",
    "    if RootNode == None:\n",
    "        \n",
    "        return \n",
    "    \n",
    "    print(RootNode.PrimeNumber)\n",
    "    \n",
    "    PreOrderTraversal(RootNode.LeftNodeAddr)\n",
    "    \n",
    "    PreOrderTraversal(RootNode.RightNodeAddr)"
   ]
  },
  {
   "cell_type": "code",
   "execution_count": 83,
   "metadata": {},
   "outputs": [
    {
     "name": "stdout",
     "output_type": "stream",
     "text": [
      "613\n",
      "521\n",
      "577\n",
      "563\n",
      "541\n",
      "983\n",
      "887\n",
      "821\n",
      "977\n",
      "977\n",
      "1009\n"
     ]
    }
   ],
   "source": [
    "RootNode = None\n",
    "\n",
    "for i in ListOfNums:\n",
    "    \n",
    "    for j in range(2 , i):\n",
    "        \n",
    "        if i%j == 0:\n",
    "            \n",
    "            break\n",
    "        \n",
    "    if j == (i-1):\n",
    "            \n",
    "        NewNode = TreeNode()\n",
    "            \n",
    "        NewNode.PrimeNumber = i\n",
    "        NewNode.LeftNodeAddr = None\n",
    "        NewNode.RightNodeAddr = None\n",
    "            \n",
    "        RootNode = InsertNode(RootNode, NewNode)\n",
    "            \n",
    "#BFSTraversal(RootNode)\n",
    "\n",
    "PreOrderTraversal(RootNode)"
   ]
  },
  {
   "cell_type": "code",
   "execution_count": 78,
   "metadata": {},
   "outputs": [],
   "source": []
  },
  {
   "cell_type": "code",
   "execution_count": null,
   "metadata": {},
   "outputs": [],
   "source": []
  }
 ],
 "metadata": {
  "kernelspec": {
   "display_name": "Python 3",
   "language": "python",
   "name": "python3"
  },
  "language_info": {
   "codemirror_mode": {
    "name": "ipython",
    "version": 3
   },
   "file_extension": ".py",
   "mimetype": "text/x-python",
   "name": "python",
   "nbconvert_exporter": "python",
   "pygments_lexer": "ipython3",
   "version": "3.6.5"
  }
 },
 "nbformat": 4,
 "nbformat_minor": 2
}
